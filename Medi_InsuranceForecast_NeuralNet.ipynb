{
  "nbformat": 4,
  "nbformat_minor": 0,
  "metadata": {
    "colab": {
      "provenance": [],
      "authorship_tag": "ABX9TyOzDWzkbIjHrVusB1FTZCin",
      "include_colab_link": true
    },
    "kernelspec": {
      "name": "python3",
      "display_name": "Python 3"
    },
    "language_info": {
      "name": "python"
    }
  },
  "cells": [
    {
      "cell_type": "markdown",
      "metadata": {
        "id": "view-in-github",
        "colab_type": "text"
      },
      "source": [
        "<a href=\"https://colab.research.google.com/github/SJharbade/DeepLearning/blob/main/Medi_InsuranceForecast_NeuralNet.ipynb\" target=\"_parent\"><img src=\"https://colab.research.google.com/assets/colab-badge.svg\" alt=\"Open In Colab\"/></a>"
      ]
    },
    {
      "cell_type": "code",
      "execution_count": null,
      "metadata": {
        "id": "ouyGZozBYFGr"
      },
      "outputs": [],
      "source": [
        "# import the required Libraries\n",
        "import tensorflow as tf\n",
        "import pandas as pd\n",
        "import matplotlib.pyplot as plt"
      ]
    },
    {
      "cell_type": "code",
      "source": [
        "# Read dataset from Git\n",
        "insu_data = pd.read_csv(\"https://raw.githubusercontent.com/stedy/Machine-Learning-with-R-datasets/master/insurance.csv\")\n",
        "insu_data"
      ],
      "metadata": {
        "id": "UbiVIKe2ZH8H"
      },
      "execution_count": null,
      "outputs": []
    },
    {
      "cell_type": "code",
      "source": [
        "# one hot coding to change all the categorical variables in numerical variables\n",
        "insu_data_onehot = pd.get_dummies(insu_data)\n",
        "insu_data_onehot.head()"
      ],
      "metadata": {
        "id": "yMNJKjyPZrH6"
      },
      "execution_count": null,
      "outputs": []
    },
    {
      "cell_type": "code",
      "source": [
        "# Create features and labels\n",
        "X = insu_data_onehot.drop(\"charges\", axis =1)\n",
        "y = insu_data_onehot[\"charges\"]"
      ],
      "metadata": {
        "id": "ZEaDnlnffGvE"
      },
      "execution_count": null,
      "outputs": []
    },
    {
      "cell_type": "code",
      "source": [
        "# Create train and test sets\n",
        "from sklearn.model_selection import train_test_split\n",
        "X_train,X_test, y_train, y_test = train_test_split(X,y, test_size = 0.2, random_state= 42)\n",
        "len(X),len(X_train),len(X_test)"
      ],
      "metadata": {
        "colab": {
          "base_uri": "https://localhost:8080/"
        },
        "id": "pmRWU85yfhUK",
        "outputId": "58885ed9-b96c-47b1-c458-0caa508a6b0a"
      },
      "execution_count": null,
      "outputs": [
        {
          "output_type": "execute_result",
          "data": {
            "text/plain": [
              "(1338, 1070, 268)"
            ]
          },
          "metadata": {},
          "execution_count": 5
        }
      ]
    },
    {
      "cell_type": "code",
      "source": [
        "# Build a neural network\n",
        "tf.random.set_seed(42)\n",
        "# create a model\n",
        "insurance_model = tf.keras.Sequential([\n",
        "    tf.keras.layers.Dense(10),\n",
        "    tf.keras.layers.Dense(1)\n",
        "\n",
        "])\n",
        "\n",
        "# compile a model\n",
        "insurance_model.compile(loss = \"mae\",\n",
        "                        optimizer = tf.keras.optimizers.SGD(),\n",
        "                        metrics = \"mae\"\n",
        "                        )\n",
        "#Fit the model\n",
        "insurance_model.fit(X_train,y_train, epochs =100)\n"
      ],
      "metadata": {
        "id": "qNTZb_CEhMnk"
      },
      "execution_count": null,
      "outputs": []
    },
    {
      "cell_type": "code",
      "source": [
        "# Check the result of insurance model on test data\n",
        "insurance_model.evaluate(X_test,y_test)"
      ],
      "metadata": {
        "colab": {
          "base_uri": "https://localhost:8080/"
        },
        "id": "Pd_ui-ERmg3q",
        "outputId": "0004d96c-2106-4fa1-b3c1-241c148a3bf4"
      },
      "execution_count": null,
      "outputs": [
        {
          "output_type": "stream",
          "name": "stdout",
          "text": [
            "9/9 [==============================] - 0s 2ms/step - loss: 7023.3286 - mae: 7023.3286\n"
          ]
        },
        {
          "output_type": "execute_result",
          "data": {
            "text/plain": [
              "[7023.32861328125, 7023.32861328125]"
            ]
          },
          "metadata": {},
          "execution_count": 14
        }
      ]
    },
    {
      "cell_type": "markdown",
      "source": [
        "As results from model is not good, with mae 7106 or 7023... that means prediction from our model will be deviated by approx ~7k. We have to improve our model and that is done by the tuning Hyperparameters.. Below are the hypermeters that we will tune and see the result of model\n",
        "1. Epochs - Increast to 500 and 1000\n",
        "2. Increase one more dense layer with 50 and 100 units respectively\n",
        "3. Change optimizer to default one and learnig rate as 0.01 and 0.001"
      ],
      "metadata": {
        "id": "wmTiLmV-9IMA"
      }
    },
    {
      "cell_type": "code",
      "source": [
        "# New model with 500 Epochs\n",
        "tf.random.set_seed(42)\n",
        "# Create model\n",
        "Insurance_model_ep500 = tf.keras.Sequential([\n",
        "    tf.keras.layers.Dense(100),\n",
        "    tf.keras.layers.Dense(1)\n",
        "])\n",
        "\n",
        "# Compile Model\n",
        "Insurance_model_ep500.compile(loss =\"mae\",\n",
        "                              optimizer = tf.keras.optimizers.SGD(),\n",
        "                              metrics =\"mae\")\n",
        "# Fit Model\n",
        "Insurance_model_ep500.fit(X_train,y_train, epochs = 500)"
      ],
      "metadata": {
        "id": "-A-k7BC59CKp"
      },
      "execution_count": null,
      "outputs": []
    },
    {
      "cell_type": "code",
      "source": [
        "# Check the result of model with epoch 500\n",
        "Insurance_model_ep500.evaluate(X_test, y_test)\n"
      ],
      "metadata": {
        "colab": {
          "base_uri": "https://localhost:8080/"
        },
        "id": "zBP0d4YcA0lZ",
        "outputId": "d6780eb0-cf05-4667-d87c-b5c5e2fd63e9"
      },
      "execution_count": null,
      "outputs": [
        {
          "output_type": "stream",
          "name": "stdout",
          "text": [
            "9/9 [==============================] - 0s 2ms/step - loss: 4518.6821 - mae: 4518.6821\n"
          ]
        },
        {
          "output_type": "execute_result",
          "data": {
            "text/plain": [
              "[4518.68212890625, 4518.68212890625]"
            ]
          },
          "metadata": {},
          "execution_count": 25
        }
      ]
    },
    {
      "cell_type": "markdown",
      "source": [
        "Not Good but with \"**mae**\" 4518.6821 is better than previous model."
      ],
      "metadata": {
        "id": "rnRcp6IKB48T"
      }
    },
    {
      "cell_type": "code",
      "source": [
        "# Increasing epochs to 1000 and chekcing resut\n",
        "tf.random.set_seed(42)\n",
        "# Create Model\n",
        "Insurance_model_ep1k = tf.keras.Sequential([\n",
        "    tf.keras.layers.Dense(100),\n",
        "    tf.keras.layers.Dense(1)\n",
        "])\n",
        "#Compile Model\n",
        "Insurance_model_ep1k.compile(loss=\"mae\",\n",
        "                             optimizer = tf.keras.optimizers.SGD(),\n",
        "                             metrics = \"mae\")\n",
        "# Fit the model\n",
        "Insurance_model_ep1k.fit( X_train,y_train, epochs = 5000)"
      ],
      "metadata": {
        "id": "vsq5-N6eI_gC"
      },
      "execution_count": null,
      "outputs": []
    },
    {
      "cell_type": "code",
      "source": [
        "# Check result of model with 1k epochs\n",
        "\n",
        "Insurance_model_ep1k.evaluate(X_test, y_test)"
      ],
      "metadata": {
        "colab": {
          "base_uri": "https://localhost:8080/"
        },
        "id": "w64j348_KwfP",
        "outputId": "8b8735cb-b18c-49ec-b1e2-3e2b031612c8"
      },
      "execution_count": null,
      "outputs": [
        {
          "output_type": "stream",
          "name": "stdout",
          "text": [
            "9/9 [==============================] - 0s 2ms/step - loss: 3781.7424 - mae: 3781.7424\n"
          ]
        },
        {
          "output_type": "execute_result",
          "data": {
            "text/plain": [
              "[3781.742431640625, 3781.742431640625]"
            ]
          },
          "metadata": {},
          "execution_count": 30
        }
      ]
    },
    {
      "cell_type": "markdown",
      "source": [
        "With mae 4388.5034, it's slightly better than previous two models. But can' take this model further. Seems like we have to use other hyper-parametes to increase model result. Tested with 5k epochs as well the value is 3781.7424"
      ],
      "metadata": {
        "id": "sHEzosiqZpEc"
      }
    },
    {
      "cell_type": "code",
      "source": [
        "# Tuning hyperparameter by increasing the number of Dense layer....Create one more model with additional dense layer with hideen unit = 50\n",
        "\n",
        "tf.random.set_seed(42)\n",
        "\n",
        "insurance_model_1 = tf.keras.Sequential([\n",
        "    tf.keras.layers.Dense(50),\n",
        "    tf.keras.layers.Dense(1)\n",
        "])\n",
        "\n",
        "# compile Model\n",
        "insurance_model_1.compile(loss =\"mae\",\n",
        "                          optimizer =tf.keras.optimizers.SGD(),\n",
        "                          metrics =\"mae\")\n",
        "# fit Model\n",
        "insurance_model_1.fit(X_train,y_train, epochs = 100)\n",
        "\n"
      ],
      "metadata": {
        "id": "Z1QCIEKenhM0"
      },
      "execution_count": null,
      "outputs": []
    },
    {
      "cell_type": "markdown",
      "source": [
        "In above model we can see that while we increase DEnse layer with one additional layer. the loss and metrics ie mae is coming as nan. That means we can't add one more dense layer. Let's try to change optimizer to Adam and see the result"
      ],
      "metadata": {
        "id": "lQR-JAbHJdAe"
      }
    },
    {
      "cell_type": "code",
      "source": [
        "# Changing model as optimizer\n",
        "\n",
        "# Create Model\n",
        "Insurance_model_opt = tf.keras.Sequential([\n",
        "    tf.keras.layers.Dense(100),\n",
        "    tf.keras.layers.Dense(1)\n",
        "])\n",
        "\n",
        "# Compile Model\n",
        "Insurance_model_opt.compile(loss=\"mae\",\n",
        "                            optimizer = tf.keras.optimizers.Adam(learning_rate = 0.01),\n",
        "                            metrics = \"mae\")\n",
        "\n",
        "# fir the model\n",
        "history = Insurance_model_opt.fit(X_train,y_train,epochs =500,verbose = 0)\n"
      ],
      "metadata": {
        "id": "xoRMq-YuJ9dW"
      },
      "execution_count": null,
      "outputs": []
    },
    {
      "cell_type": "code",
      "source": [
        "# Evaluate the model\n",
        "Insurance_model_opt.evaluate(X_test,y_test)\n",
        "# With mae 3163.1780 this model is best till now"
      ],
      "metadata": {
        "colab": {
          "base_uri": "https://localhost:8080/"
        },
        "id": "yVqGycdsGJnY",
        "outputId": "33501319-f4ea-445f-a472-f39b8999d206"
      },
      "execution_count": null,
      "outputs": [
        {
          "output_type": "stream",
          "name": "stdout",
          "text": [
            "9/9 [==============================] - 0s 2ms/step - loss: 3178.1658 - mae: 3178.1658\n"
          ]
        },
        {
          "output_type": "execute_result",
          "data": {
            "text/plain": [
              "[3178.165771484375, 3178.165771484375]"
            ]
          },
          "metadata": {},
          "execution_count": 17
        }
      ]
    },
    {
      "cell_type": "code",
      "source": [
        "# plot history, also know as Loss Curve or training curve\n",
        "pd.DataFrame(history.history).plot()\n",
        "plt.ylable =\"loss\"\n",
        "plt.xlabel = \"epochs\""
      ],
      "metadata": {
        "colab": {
          "base_uri": "https://localhost:8080/",
          "height": 265
        },
        "id": "Y5aM-VDLEv7y",
        "outputId": "4a122c6b-1df3-4643-e865-3a299b71f2a4"
      },
      "execution_count": null,
      "outputs": [
        {
          "output_type": "display_data",
          "data": {
            "text/plain": [
              "<Figure size 432x288 with 1 Axes>"
            ],
            "image/png": "[encoded data removed]"
          },
          "metadata": {
            "needs_background": "light"
          }
        }
      ]
    }
  ]
}