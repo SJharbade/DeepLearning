{
  "nbformat": 4,
  "nbformat_minor": 0,
  "metadata": {
    "colab": {
      "provenance": [],
      "authorship_tag": "ABX9TyPYTc5kPHU0hL5daAhTI77m",
      "include_colab_link": true
    },
    "kernelspec": {
      "name": "python3",
      "display_name": "Python 3"
    },
    "language_info": {
      "name": "python"
    }
  },
  "cells": [
    {
      "cell_type": "markdown",
      "metadata": {
        "id": "view-in-github",
        "colab_type": "text"
      },
      "source": [
        "<a href=\"https://colab.research.google.com/github/SJharbade/DeepLearning/blob/main/01_TensorFlow_NeuralNet_Regression.ipynb\" target=\"_parent\"><img src=\"https://colab.research.google.com/assets/colab-badge.svg\" alt=\"Open In Colab\"/></a>"
      ]
    },
    {
      "cell_type": "markdown",
      "source": [
        "# Introduction to regression with neural network with tensorflow"
      ],
      "metadata": {
        "id": "ojQBgxX5MrjE"
      }
    },
    {
      "cell_type": "code",
      "source": [
        "import tensorflow as tf"
      ],
      "metadata": {
        "id": "PcrZwmBMRRHi"
      },
      "execution_count": null,
      "outputs": []
    },
    {
      "cell_type": "markdown",
      "source": [
        "# Create Data to View and fit"
      ],
      "metadata": {
        "id": "XKsCY_mcSZhU"
      }
    },
    {
      "cell_type": "code",
      "source": [
        "import numpy as np\n",
        "import matplotlib.pyplot as plt"
      ],
      "metadata": {
        "id": "52hoW8jTSg-2"
      },
      "execution_count": null,
      "outputs": []
    },
    {
      "cell_type": "code",
      "source": [
        "# Create Features( Independent Variables)\n",
        "X = np.array([-7.0,-4.0,-1.0, 2.0,5.0,8.0,11.0,14.0])\n",
        "# Create Lables ( Dependent variables)\n",
        "y = np.array([3.0,6.0,9.0,12.0,15.0,18.0,21.0,24.0])"
      ],
      "metadata": {
        "id": "v0qoXBSRhrVl"
      },
      "execution_count": null,
      "outputs": []
    },
    {
      "cell_type": "code",
      "source": [
        "# Visualize it\n",
        "plt.scatter(X,y)"
      ],
      "metadata": {
        "colab": {
          "base_uri": "https://localhost:8080/",
          "height": 286
        },
        "id": "vD2fR8iZig8y",
        "outputId": "5640890b-cee4-4e89-f385-a3eb6a0e7bbe"
      },
      "execution_count": null,
      "outputs": [
        {
          "output_type": "execute_result",
          "data": {
            "text/plain": [
              "<matplotlib.collections.PathCollection at 0x7ff80e66df40>"
            ]
          },
          "metadata": {},
          "execution_count": 4
        },
        {
          "output_type": "display_data",
          "data": {
            "text/plain": [
              "<Figure size 432x288 with 1 Axes>"
            ],
            "image/png": "[encoded data removed]"
          },
          "metadata": {
            "needs_background": "light"
          }
        }
      ]
    },
    {
      "cell_type": "code",
      "source": [
        "y == X + 10 ### Since we can see the relationship between X and y, we will try to deduce this relationship from the regression"
      ],
      "metadata": {
        "colab": {
          "base_uri": "https://localhost:8080/"
        },
        "id": "Rc0pW3ehjBNt",
        "outputId": "75548937-8b95-4bab-f6fc-812ee8a9b34d"
      },
      "execution_count": null,
      "outputs": [
        {
          "output_type": "execute_result",
          "data": {
            "text/plain": [
              "array([ True,  True,  True,  True,  True,  True,  True,  True])"
            ]
          },
          "metadata": {},
          "execution_count": 5
        }
      ]
    },
    {
      "cell_type": "markdown",
      "source": [
        "#Input and output shapes"
      ],
      "metadata": {
        "id": "5NUN6W1FjupY"
      }
    },
    {
      "cell_type": "code",
      "source": [
        "# create a demo tensor for our housing price predection problem ( This is the example of the tutorial)\n",
        "house_info = tf.constant([\"bedroom\",\"bathroom\",\"garage\"])\n",
        "house_price = tf.constant([939700])\n",
        "house_info, house_price"
      ],
      "metadata": {
        "colab": {
          "base_uri": "https://localhost:8080/"
        },
        "id": "PUQGF1WLj408",
        "outputId": "cb693907-6cf5-463a-afd9-bcac1194964e"
      },
      "execution_count": null,
      "outputs": [
        {
          "output_type": "execute_result",
          "data": {
            "text/plain": [
              "(<tf.Tensor: shape=(3,), dtype=string, numpy=array([b'bedroom', b'bathroom', b'garage'], dtype=object)>,\n",
              " <tf.Tensor: shape=(1,), dtype=int32, numpy=array([939700], dtype=int32)>)"
            ]
          },
          "metadata": {},
          "execution_count": 6
        }
      ]
    },
    {
      "cell_type": "code",
      "source": [
        "# Shape of the example problem that we are doing here\n",
        "input_shape =X.shape\n",
        "output_shape = y.shape\n",
        "input_shape,output_shape\n",
        "# The output is not making sense as we want to predict y[0] that is 3.0 for the value of X[0] that is -7.0"
      ],
      "metadata": {
        "colab": {
          "base_uri": "https://localhost:8080/"
        },
        "id": "kPy_eNaklEVz",
        "outputId": "c01b577e-4476-41e5-a9ad-7525f1c89332"
      },
      "execution_count": null,
      "outputs": [
        {
          "output_type": "execute_result",
          "data": {
            "text/plain": [
              "((8,), (8,))"
            ]
          },
          "metadata": {},
          "execution_count": 7
        }
      ]
    },
    {
      "cell_type": "code",
      "source": [
        "# Let's check the shape for the single values of X and y\n",
        "input_shape =X[0].shape\n",
        "output_shape = y[0].shape\n",
        "input_shape,output_shape\n",
        "# from the putput it seems like our inuput and output has no shapes; this is not possible, this is example of Scalar tensor hence it has no shape, as in below line of code"
      ],
      "metadata": {
        "colab": {
          "base_uri": "https://localhost:8080/"
        },
        "id": "3yfaIF6LmHXI",
        "outputId": "33898184-71c0-4475-b325-5b3440a57a8d"
      },
      "execution_count": null,
      "outputs": [
        {
          "output_type": "execute_result",
          "data": {
            "text/plain": [
              "((), ())"
            ]
          },
          "metadata": {},
          "execution_count": 8
        }
      ]
    },
    {
      "cell_type": "code",
      "source": [
        "X[0].ndim"
      ],
      "metadata": {
        "colab": {
          "base_uri": "https://localhost:8080/"
        },
        "id": "X51pXj-XnhV7",
        "outputId": "9022c31e-0e23-425e-ee96-14d2f7f6a2cd"
      },
      "execution_count": null,
      "outputs": [
        {
          "output_type": "execute_result",
          "data": {
            "text/plain": [
              "0"
            ]
          },
          "metadata": {},
          "execution_count": 9
        }
      ]
    },
    {
      "cell_type": "code",
      "source": [
        "# turn our numpy array into tensors\n",
        "X = tf.constant(X)\n",
        "y =tf.constant(y)\n",
        "X,y"
      ],
      "metadata": {
        "colab": {
          "base_uri": "https://localhost:8080/"
        },
        "id": "z-2SpXsgnvRZ",
        "outputId": "40431597-ca95-40aa-e868-3997c1f0258e"
      },
      "execution_count": null,
      "outputs": [
        {
          "output_type": "execute_result",
          "data": {
            "text/plain": [
              "(<tf.Tensor: shape=(8,), dtype=float64, numpy=array([-7., -4., -1.,  2.,  5.,  8., 11., 14.])>,\n",
              " <tf.Tensor: shape=(8,), dtype=float64, numpy=array([ 3.,  6.,  9., 12., 15., 18., 21., 24.])>)"
            ]
          },
          "metadata": {},
          "execution_count": 10
        }
      ]
    },
    {
      "cell_type": "code",
      "source": [
        "# Let's check the shape of tensors that we created just now\n",
        "input_shape =X[0].shape\n",
        "output_shape = y[0].shape\n",
        "input_shape,output_shape\n",
        "## In this case how we should build model to predict y[0] for X[0]"
      ],
      "metadata": {
        "colab": {
          "base_uri": "https://localhost:8080/"
        },
        "id": "Sme6RGfHoJaN",
        "outputId": "36403508-afcb-4891-e244-1a995919f234"
      },
      "execution_count": null,
      "outputs": [
        {
          "output_type": "execute_result",
          "data": {
            "text/plain": [
              "(TensorShape([]), TensorShape([]))"
            ]
          },
          "metadata": {},
          "execution_count": 11
        }
      ]
    },
    {
      "cell_type": "markdown",
      "source": [
        "## Steps in modelling a tensorflow\n",
        "1. **Creating a Model** -  Define:\n",
        "                      i) Input Layer\n",
        "                      ii) Output Layer\n",
        "                      iii) hidden Layers of deep learning model\n",
        "2. **Compiling a Model** -  Define:\n",
        "          i) Loss Function -The function tells our model how wrong it is\n",
        "          ii) Optimizer - Tells the model how to improve it's learning\n",
        "          iii) Evaluation Metrics- To gauage efficency of our model\n",
        "3. **Fitting the  Model** -  Letting model to find patterns between X and y that is  for features and lables. This steps also involves improvement of models\n",
        "  Steps for improving models\n",
        "  1. Tuning of hyperparameters\n"
      ],
      "metadata": {
        "id": "FaqboGF2okVW"
      }
    },
    {
      "cell_type": "code",
      "source": [
        "# Set the random Seed\n",
        "tf.random.set_seed(42)\n",
        "\n",
        "# 1.  Create Model using Sequential API\n",
        "## we can also use .add function to add dense layer in Sequintal API after defining the model(as defined in tensor flow knowledge Articles)\n",
        "## and we can pass the list as well, as we have done in below code\n",
        "\n",
        "model =tf.keras.Sequential([\n",
        "    tf.keras.layers.Dense(1)\n",
        "])\n",
        "\n",
        "# 2. Complile the model\n",
        "\n",
        "model.compile(loss = tf.keras.losses.mae,# mae Mean Absolute error\n",
        "              optimizer = tf.keras.optimizers.SGD(),# Stochastic Gradient Descent)\n",
        "              metrics = [\"mae\"])\n",
        "\n",
        "# 3.  Fit the Model\n",
        "\n",
        "model.fit(tf.expand_dims(X, axis=-1), y, epochs=5)\n"
      ],
      "metadata": {
        "id": "-eW-oQczthhP"
      },
      "execution_count": null,
      "outputs": []
    },
    {
      "cell_type": "code",
      "source": [
        "# Check out X and y by predicting using our model\n",
        "y_pred = model.predict([17.0])\n",
        "y_pred\n",
        "\n",
        "## We can see model output is not as expected, we should have y =X +10 as output that is 17 +10 = 27....\n",
        "## And we can see the Loss of 10.9(mae) adding that with out put 12.7 + 10.9 = ~ 23.0 still there is difference in observed value and predicted value"
      ],
      "metadata": {
        "colab": {
          "base_uri": "https://localhost:8080/"
        },
        "id": "r2a1typKedYZ",
        "outputId": "d1256fdb-ddf5-4cd2-baf3-479a2a573b5a"
      },
      "execution_count": null,
      "outputs": [
        {
          "output_type": "stream",
          "name": "stdout",
          "text": [
            "1/1 [==============================] - 0s 65ms/step\n"
          ]
        },
        {
          "output_type": "execute_result",
          "data": {
            "text/plain": [
              "array([[12.716021]], dtype=float32)"
            ]
          },
          "metadata": {},
          "execution_count": 13
        }
      ]
    },
    {
      "cell_type": "markdown",
      "source": [
        "Improving our Model"
      ],
      "metadata": {
        "id": "fVwGY5QagW7o"
      }
    },
    {
      "cell_type": "code",
      "source": [
        "# Let's re-build our model\n",
        "### 1.  BY increasing number of epochs(hyperparameter)\n",
        "\n",
        "# Create a model\n",
        "model = tf.keras.Sequential([\n",
        "    tf.keras.layers.Dense(1)])\n",
        "# compile the  model\n",
        "model.compile(loss =tf.keras.losses.mae,\n",
        "              optimizer = tf.keras.optimizers.SGD(),\n",
        "              metrics =[\"mae\"])\n",
        "# fit the model\n",
        "model.fit(tf.expand_dims(X, axis=-1), y, epochs=100)"
      ],
      "metadata": {
        "id": "ODRl-kvVgaZ7"
      },
      "execution_count": null,
      "outputs": []
    },
    {
      "cell_type": "code",
      "source": [
        "# Check out X and y by predicting using our New model\n",
        "y_pred = model.predict([17.0])\n",
        "y_pred"
      ],
      "metadata": {
        "colab": {
          "base_uri": "https://localhost:8080/"
        },
        "id": "WebCdxu7kNZF",
        "outputId": "84ba4c0e-94a2-4299-ad46-21c8fb8a0d4a"
      },
      "execution_count": null,
      "outputs": [
        {
          "output_type": "stream",
          "name": "stdout",
          "text": [
            "1/1 [==============================] - 0s 194ms/step\n"
          ]
        },
        {
          "output_type": "execute_result",
          "data": {
            "text/plain": [
              "array([[29.739855]], dtype=float32)"
            ]
          },
          "metadata": {},
          "execution_count": 15
        }
      ]
    },
    {
      "cell_type": "code",
      "source": [
        "# Let's re-build our model\n",
        "### 1.  BY changing th optmizer function\n",
        "\n",
        "# Create Model\n",
        "model_O = tf.keras.Sequential([\n",
        "    tf.keras.layers.Dense(1)\n",
        "])\n",
        "\n",
        "# Compile the model\n",
        "model_O.compile(loss = tf.keras.losses.mae,\n",
        "                optimizer = tf.keras.optimizers.Adam(lr = 0.0001),\n",
        "                metrics = [\"mae\"])\n",
        "\n",
        "# Fit the model\n",
        "model_O.fit(tf.expand_dims(X, axis =-1),y,epochs =100)"
      ],
      "metadata": {
        "id": "5xNSEeJFnNdL"
      },
      "execution_count": null,
      "outputs": []
    },
    {
      "cell_type": "code",
      "source": [
        "# Check out X and y by predicting using our New model\n",
        "y_pred = model_O.predict([17.0])\n",
        "y_pred\n",
        "\n",
        "# By changing Optimizer to Adam and epocs to 100 and then 500, we can see there is no effeciency enhanancements\n",
        "# But efficeny has decreased to considerably"
      ],
      "metadata": {
        "colab": {
          "base_uri": "https://localhost:8080/"
        },
        "id": "D85ohgLmrF2w",
        "outputId": "c724c58a-76ba-4435-c32a-f8964c7d570a"
      },
      "execution_count": null,
      "outputs": [
        {
          "output_type": "stream",
          "name": "stdout",
          "text": [
            "1/1 [==============================] - 0s 42ms/step\n"
          ]
        },
        {
          "output_type": "execute_result",
          "data": {
            "text/plain": [
              "array([[14.394114]], dtype=float32)"
            ]
          },
          "metadata": {},
          "execution_count": 17
        }
      ]
    },
    {
      "cell_type": "code",
      "source": [
        "# Let's re-build our model\n",
        "### 1.  BY adding hidden Layers\n",
        "\n",
        "# Create model\n",
        "model_hl = tf.keras.Sequential([\n",
        "    tf.keras.layers.Dense(100,activation=\"relu\"),\n",
        "    tf.keras.layers.Dense(1)\n",
        "])\n",
        "\n",
        "## Compile Model\n",
        "model_hl.compile(loss =tf.keras.losses.mae,\n",
        "                 #optimizer =tf.keras.optimizers.Adam(lr =0.0001),\n",
        "                 optimizer = tf.keras.optimizers.SGD(),\n",
        "                 metrics =[\"mae\"])\n",
        "\n",
        "## Fit the model\n",
        "model_hl.fit(tf.expand_dims(X, axis =-1),y,epochs =100)"
      ],
      "metadata": {
        "id": "oRDfp0EnsIb6"
      },
      "execution_count": null,
      "outputs": []
    },
    {
      "cell_type": "code",
      "source": [
        "# Check out X and y by predicting using our New model\n",
        "y_pred = model_hl.predict([17.0])\n",
        "y_pred"
      ],
      "metadata": {
        "colab": {
          "base_uri": "https://localhost:8080/"
        },
        "id": "-jqFBeRftxfk",
        "outputId": "b400652d-20b8-41a7-eb56-7221fc586d32"
      },
      "execution_count": null,
      "outputs": [
        {
          "output_type": "stream",
          "name": "stdout",
          "text": [
            "1/1 [==============================] - 0s 42ms/step\n"
          ]
        },
        {
          "output_type": "execute_result",
          "data": {
            "text/plain": [
              "array([[31.727648]], dtype=float32)"
            ]
          },
          "metadata": {},
          "execution_count": 19
        }
      ]
    },
    {
      "cell_type": "code",
      "source": [
        "# Let's re-build our model\n",
        "### 1.  BY adding hidden Layers\n",
        "\n",
        "# Create model\n",
        "model_hl = tf.keras.Sequential([\n",
        "    tf.keras.layers.Dense(50, activation= None),\n",
        "    tf.keras.layers.Dense(1)\n",
        "])\n",
        "\n",
        "## Compile Model\n",
        "model_hl.compile(loss =\"mae\", # sme as above code just short form\n",
        "                 optimizer =tf.keras.optimizers.Adam(lr =0.01),\n",
        "                 #optimizer = tf.keras.optimizers.SGD(),\n",
        "                 metrics =[\"mae\"])\n",
        "\n",
        "## Fit the model\n",
        "model_hl.fit(tf.expand_dims(X, axis =-1),y,epochs =100)"
      ],
      "metadata": {
        "id": "m4q9jwAT0xYm"
      },
      "execution_count": null,
      "outputs": []
    },
    {
      "cell_type": "code",
      "source": [
        "y_pred = model_hl.predict([17.0])\n",
        "y_pred"
      ],
      "metadata": {
        "colab": {
          "base_uri": "https://localhost:8080/"
        },
        "id": "d9JnhbHN1Oor",
        "outputId": "3b26d5e9-c4aa-4ead-8280-8e1848f09340"
      },
      "execution_count": null,
      "outputs": [
        {
          "output_type": "stream",
          "name": "stderr",
          "text": [
            "WARNING:tensorflow:5 out of the last 5 calls to <function Model.make_predict_function.<locals>.predict_function at 0x7ff808b2fb80> triggered tf.function retracing. Tracing is expensive and the excessive number of tracings could be due to (1) creating @tf.function repeatedly in a loop, (2) passing tensors with different shapes, (3) passing Python objects instead of tensors. For (1), please define your @tf.function outside of the loop. For (2), @tf.function has reduce_retracing=True option that can avoid unnecessary retracing. For (3), please refer to https://www.tensorflow.org/guide/function#controlling_retracing and https://www.tensorflow.org/api_docs/python/tf/function for  more details.\n"
          ]
        },
        {
          "output_type": "stream",
          "name": "stdout",
          "text": [
            "1/1 [==============================] - 0s 69ms/step\n"
          ]
        },
        {
          "output_type": "execute_result",
          "data": {
            "text/plain": [
              "array([[27.324871]], dtype=float32)"
            ]
          },
          "metadata": {},
          "execution_count": 21
        }
      ]
    },
    {
      "cell_type": "markdown",
      "source": [
        "## Common Ways to improve deep Learning Models\n",
        "1. Adding Hidden Layers\n",
        "2. Increase the number of hidden units ie Dense(10), Dense(50) etc....\n",
        "3. Change the Activation Function\n",
        "4. Change the Optimization Function\n",
        "5. Change the Learning Rate------Most important hyper parameters\n",
        "6. Fitting on more Data.... increase dataset size\n",
        "7. Fitting for Longer ie.. increasing epochs ( first thing for tuning)"
      ],
      "metadata": {
        "id": "Ocz2ma5iy--i"
      }
    },
    {
      "cell_type": "markdown",
      "source": [
        "Evaluating the model"
      ],
      "metadata": {
        "id": "ZB5Ly2nG20bX"
      }
    },
    {
      "cell_type": "code",
      "source": [],
      "metadata": {
        "id": "4lY8f_6h23ib"
      },
      "execution_count": null,
      "outputs": []
    }
  ]
}